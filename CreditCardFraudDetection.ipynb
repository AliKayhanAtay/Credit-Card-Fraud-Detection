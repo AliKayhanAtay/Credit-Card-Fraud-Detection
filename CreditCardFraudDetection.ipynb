{
 "cells": [
  {
   "cell_type": "code",
   "execution_count": 65,
   "metadata": {},
   "outputs": [],
   "source": [
    "import pandas as pd\n",
    "import numpy as np\n",
    "\n",
    "import matplotlib.pyplot as plt\n",
    "import seaborn as sns\n",
    "\n",
    "from sklearn.model_selection import StratifiedKFold, GridSearchCV, train_test_split\n",
    "from sklearn.ensemble import IsolationForest\n",
    "from sklearn.preprocessing import PolynomialFeatures\n",
    "from sklearn.manifold import TSNE\n",
    "from sklearn.metrics import accuracy_score, f1_score, confusion_matrix, make_scorer\n",
    "\n",
    "import lightgbm as lgb\n",
    "\n",
    "from collections import OrderedDict \n",
    "import pprint\n",
    "from joblib import Parallel, delayed\n",
    "from functools import partial\n",
    "import pickle\n",
    "from itertools import product\n",
    "from tqdm.notebook import tqdm\n",
    "import multiprocessing\n",
    "\n",
    "cpu_count = multiprocessing.cpu_count()\n",
    "pd.options.display.max_columns = 999"
   ]
  },
  {
   "cell_type": "code",
   "execution_count": 10,
   "metadata": {},
   "outputs": [],
   "source": [
    "df = pd.read_csv('data/creditcard.zip')\n",
    "\n",
    "df['Hours'] = df['Time'].apply(lambda x: np.ceil(float(x)/3600) % 24)\n",
    "df = df.drop('Time', axis=1)"
   ]
  },
  {
   "cell_type": "code",
   "execution_count": 64,
   "metadata": {},
   "outputs": [
    {
     "data": {
      "text/plain": [
       "0    284315\n",
       "1       492\n",
       "Name: Class, dtype: int64"
      ]
     },
     "execution_count": 64,
     "metadata": {},
     "output_type": "execute_result"
    }
   ],
   "source": [
    "df['Class'].value_counts()"
   ]
  },
  {
   "cell_type": "code",
   "execution_count": 12,
   "metadata": {},
   "outputs": [
    {
     "data": {
      "image/png": "[encoded data removed]",
      "text/plain": [
       "<Figure size 1080x504 with 2 Axes>"
      ]
     },
     "metadata": {
      "needs_background": "light"
     },
     "output_type": "display_data"
    }
   ],
   "source": [
    "plt.figure(figsize=(15,7))\n",
    "sns.heatmap(df.corr(), cmap='Greens')\n",
    "plt.show()"
   ]
  },
  {
   "cell_type": "code",
   "execution_count": 13,
   "metadata": {},
   "outputs": [],
   "source": [
    "positive = df.query('Class==1')\n",
    "negative = df.query('Class==0').sample(positive.shape[0])\n",
    "merge = pd.concat([positive, negative])"
   ]
  },
  {
   "cell_type": "code",
   "execution_count": 51,
   "metadata": {},
   "outputs": [],
   "source": [
    "def Generate_Param(param_grid):\n",
    "    param_grid = OrderedDict(param_grid)\n",
    "    params = list(product(*[param_grid[e] for e in param_grid]))\n",
    "    for param in params:\n",
    "        yield dict(zip(list(param_grid.keys()), param))\n",
    "\n",
    "def RunClf(clf, X, y, scorer, params):\n",
    "    clf = clf(**params)\n",
    "    pred = clf.fit_predict(X)\n",
    "    return params, scorer(y, pred), pred\n",
    "\n",
    "def GetBest(output):\n",
    "    max_score = 0\n",
    "    best_param = None \n",
    "    best_preds = None\n",
    "    for params, score, pred in output:\n",
    "        if score > max_score: \n",
    "            max_score = score\n",
    "            best_param = params\n",
    "            best_preds = pred\n",
    "\n",
    "    pprint.pprint(best_param)\n",
    "    print(max_score)\n",
    "    \n",
    "    return max_score, best_param, best_preds"
   ]
  },
  {
   "cell_type": "markdown",
   "metadata": {},
   "source": [
    "# Isolatin Forest\n",
    "\n",
    "https://scikit-learn.org/stable/modules/generated/sklearn.ensemble.IsolationForest.html"
   ]
  },
  {
   "cell_type": "code",
   "execution_count": 47,
   "metadata": {},
   "outputs": [],
   "source": [
    "param_grid_if = {'n_estimators': list(range(100, 800, 300)), \n",
    "                 'max_samples': list(range(100, 500, 200)), \n",
    "                 'contamination': [0.1, 0.5], \n",
    "                 'max_features': [1, 10], \n",
    "                 'bootstrap': [True, False],}\n",
    "\n",
    "X_is = df.drop('Class', axis=1)\n",
    "y_is = df['Class'].replace(1,-1).replace(0,1) \n",
    "\n",
    "RunClfPartial = partial(RunClf, IsolationForest, X_is, y_is, f1_score)\n",
    "output = Parallel(n_jobs=cpu_count)(delayed(RunClfPartial)(i) for i in Generate_Param(param_grid))\n",
    "max_score_is, best_param_is, best_preds_is = GetBest(output)"
   ]
  },
  {
   "cell_type": "code",
   "execution_count": 66,
   "metadata": {},
   "outputs": [
    {
     "name": "stdout",
     "output_type": "stream",
     "text": [
      "True Negative :  437\n",
      "False Positive:  55\n",
      "False Negative:  28044\n",
      "True Positive :  256271\n",
      "\n",
      "Precision : 0.9997854294921311\n",
      "Recall    : 0.9013629249248193\n"
     ]
    }
   ],
   "source": [
    "tn, fp, fn, tp  = confusion_matrix(df['Class'].replace(1,-1).replace(0,1), best_preds_is).ravel()\n",
    "\n",
    "print('True Negative : ', tn)\n",
    "print('False Positive: ', fp)\n",
    "print('False Negative: ', fn)\n",
    "print('True Positive : ', tp)\n",
    "print()\n",
    "print('Precision :', (tp/(tp+fp)))\n",
    "print('Recall    :', (tp/(tp+fn)))"
   ]
  },
  {
   "cell_type": "markdown",
   "metadata": {},
   "source": [
    "# Applying Polynomial Features"
   ]
  },
  {
   "cell_type": "code",
   "execution_count": 67,
   "metadata": {},
   "outputs": [],
   "source": [
    "poly = PolynomialFeatures(2, interaction_only=True, include_bias=False)\n",
    "df_poly = poly.fit_transform(df.drop('Class', axis=1))\n",
    "df_poly_names = poly.get_feature_names(df.drop('Class', axis=1).columns)\n",
    "df_poly = pd.DataFrame(df_poly, columns=df_poly_names)"
   ]
  },
  {
   "cell_type": "markdown",
   "metadata": {},
   "source": [
    "# Lgb Training Dataset"
   ]
  },
  {
   "cell_type": "code",
   "execution_count": null,
   "metadata": {},
   "outputs": [],
   "source": [
    "X = df_poly\n",
    "y = df['Class']"
   ]
  },
  {
   "cell_type": "markdown",
   "metadata": {},
   "source": [
    "# LightGbm\n",
    "## Hyperparameter Optimization\n",
    "\n",
    "https://lightgbm.readthedocs.io/en/latest/Parameters.html"
   ]
  },
  {
   "cell_type": "code",
   "execution_count": null,
   "metadata": {},
   "outputs": [],
   "source": [
    "def LgbmGridSearch(X, y, param_grid, test_size=0.20):\n",
    "    param_grid_product = list(product(*[param_grid[e] for e in param_grid]))\n",
    "    X_train, X_test, y_train, y_test = train_test_split(X, y, test_size=0.20, random_state=42, shuffle=True, stratify=y)\n",
    "\n",
    "    lgb_train = lgb.Dataset(X_train, y_train)\n",
    "    lgb_test  = lgb.Dataset(X_test, y_test, reference=lgb_train)\n",
    "    \n",
    "    evals_result = dict()\n",
    "    models = dict()\n",
    "    \n",
    "    index = 1\n",
    "    for param in tqdm(param_grid_product):\n",
    "        evals_result[f'Fit_{index}'] = {}\n",
    "\n",
    "        tmp_param = {p:v for p, v in zip(param_grid.keys(), param)}\n",
    "\n",
    "        tmp_param.update({'objective':'binary', \n",
    "                          'metric':'auc'})\n",
    "\n",
    "        gbm = lgb.train(tmp_param, \n",
    "                        lgb_train, \n",
    "                        num_boost_round=1500, \n",
    "                        valid_sets=[lgb_train, lgb_test],\n",
    "                        early_stopping_rounds=10, \n",
    "                        evals_result=evals_result[f'Fit_{index}'], \n",
    "                        verbose_eval=-1,)\n",
    "\n",
    "        models[f'Fit_{index}'] = gbm\n",
    "        index += 1\n",
    "        \n",
    "    with open(f'hyperopt.pickle', 'wb') as f:\n",
    "        pickle.dump((evals_result, models), f)  \n",
    "    return evals_result, models\n",
    "\n",
    "\n",
    "param_grid ={\n",
    "'boosting_type':['gbdt'], \n",
    "'num_leaves': [10, 15, 20],\n",
    "'reg_alpha': [ 1e-1, 0, 1],\n",
    "'reg_lambda': [1, 5, 10],\n",
    "'learning_rate':[.0001],\n",
    "'min_child_samples': [300], \n",
    "'min_child_weight': [1e-3, 1e-4],\n",
    "'boost_from_average':[False],\n",
    "'verbosity' : [-1],\n",
    "'is_unbalance' : [True],\n",
    "#'scale_pos_weight': [99]\n",
    "            }\n",
    "\n",
    "evals_result, models = LgbmGridSearch(X, y, param_grid)\n",
    "\n",
    "sorted_evals_result = OrderedDict(sorted(evals_result.items(), key = lambda x: x[1]['valid_1']['auc'][-1]))\n",
    "best_fit = list(sorted_evals_result.keys())[0]\n",
    "best_params = models[best_fit].params\n",
    "pprint.pprint(best_params)"
   ]
  },
  {
   "cell_type": "markdown",
   "metadata": {},
   "source": [
    "# LightGbm\n",
    "## Training with Crossvalidation"
   ]
  },
  {
   "cell_type": "code",
   "execution_count": null,
   "metadata": {},
   "outputs": [],
   "source": [
    "skf = StratifiedKFold(n_splits=10, shuffle=True, random_state=1)\n",
    "\n",
    "evals_result_train = dict()\n",
    "models_train = dict()\n",
    "preds = dict()\n",
    "if 'learning_rate'  in best_params: best_params.pop('learning_rate')\n",
    "if 'num_iterations' in best_params: best_params.pop('num_iterations')\n",
    "    \n",
    "for fold, (train_idx, test_idx) in enumerate(skf.split(X, y)):\n",
    "    evals_result_train[f'Fit_{fold}'] = {}\n",
    "    \n",
    "    X_train, X_test = X.loc[train_idx,:], X.loc[test_idx,:]\n",
    "    y_train, y_test = y[train_idx], y[test_idx] \n",
    "    \n",
    "    lgb_train = lgb.Dataset(X_train, y_train, weight=None, free_raw_data=False)\n",
    "    lgb_eval  = lgb.Dataset(X_test, y_test,   weight=None, free_raw_data=False, reference=lgb_train)\n",
    "    \n",
    "    best_params.update({'early_stopping_round':5})\n",
    "    \n",
    "    gbm = lgb.train(best_params, \n",
    "                    lgb_train, \n",
    "                    num_boost_round=1000, \n",
    "                    valid_sets=[lgb_train, lgb_eval],\n",
    "                    evals_result=evals_result_train[f'Fit_{fold}'], \n",
    "                    learning_rates=lambda x: 0.00001 * 0.9**x, # Applying Learning Rate Decay\n",
    "                    verbose_eval=1,)\n",
    "    \n",
    "    preds[f'Fit_{fold}'] = [gbm.predict(X_test), y_test]\n",
    "    models_train[f'Fit_{fold}'] = gbm"
   ]
  },
  {
   "cell_type": "code",
   "execution_count": null,
   "metadata": {},
   "outputs": [],
   "source": [
    "output = pd.concat([pd.DataFrame([v[0].tolist(), v[1]]).T for k,v in preds.items()], axis=0).rename(columns={0:'y_Pred',1:'y_True'}).reset_index(drop=True)"
   ]
  },
  {
   "cell_type": "markdown",
   "metadata": {},
   "source": [
    "# Results"
   ]
  },
  {
   "cell_type": "code",
   "execution_count": null,
   "metadata": {},
   "outputs": [],
   "source": [
    "tn, fp, fn, tp  = confusion_matrix(output['y_True'], output['y_Pred'].round()).ravel()\n",
    "print('True Negative : ', tn)\n",
    "print('False Positive: ', fp)\n",
    "print('False Negative: ', fn)\n",
    "print('True Positive : ', tp)\n",
    "print()\n",
    "print('Precision :', round((tp/(tp+fp)),2))\n",
    "print('Recall    :', round((tp/(tp+fn)),2))"
   ]
  },
  {
   "cell_type": "markdown",
   "metadata": {},
   "source": [
    "# Feature Importance"
   ]
  },
  {
   "cell_type": "code",
   "execution_count": null,
   "metadata": {},
   "outputs": [],
   "source": [
    "avg_importance = np.array([v.feature_importance() for k, v in models_train.items()]).mean(axis=0)\n",
    "feature_importance = pd.DataFrame({'Feature':df_poly_names,'Importance':avg_importance}).sort_values('Importance', ascending=False)\n",
    "feature_importance.head(10).set_index('Feature').plot.bar()\n",
    "plt.show()"
   ]
  },
  {
   "cell_type": "code",
   "execution_count": null,
   "metadata": {},
   "outputs": [],
   "source": []
  },
  {
   "cell_type": "code",
   "execution_count": null,
   "metadata": {},
   "outputs": [],
   "source": []
  },
  {
   "cell_type": "code",
   "execution_count": null,
   "metadata": {},
   "outputs": [],
   "source": []
  },
  {
   "cell_type": "code",
   "execution_count": null,
   "metadata": {},
   "outputs": [],
   "source": []
  }
 ],
 "metadata": {
  "kernelspec": {
   "display_name": "Python 3",
   "language": "python",
   "name": "python3"
  },
  "language_info": {
   "codemirror_mode": {
    "name": "ipython",
    "version": 3
   },
   "file_extension": ".py",
   "mimetype": "text/x-python",
   "name": "python",
   "nbconvert_exporter": "python",
   "pygments_lexer": "ipython3",
   "version": "3.7.8"
  }
 },
 "nbformat": 4,
 "nbformat_minor": 4
}
